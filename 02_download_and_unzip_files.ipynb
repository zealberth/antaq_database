{
 "cells": [
  {
   "cell_type": "code",
   "execution_count": 1,
   "metadata": {},
   "outputs": [],
   "source": [
    "import requests\n",
    "import zipfile\n",
    "import os"
   ]
  },
  {
   "cell_type": "code",
   "execution_count": 2,
   "metadata": {},
   "outputs": [],
   "source": [
    "anos_interesse = ['2020', '2019', '2018']"
   ]
  },
  {
   "cell_type": "markdown",
   "metadata": {},
   "source": [
    "# Download"
   ]
  },
  {
   "cell_type": "code",
   "execution_count": 3,
   "metadata": {},
   "outputs": [],
   "source": [
    "directory_external = 'data/external/'\n",
    "\n",
    "if not os.path.exists(directory_external):\n",
    "    os.makedirs(directory_external)"
   ]
  },
  {
   "cell_type": "code",
   "execution_count": 4,
   "metadata": {},
   "outputs": [],
   "source": [
    "for ano in anos_interesse:\n",
    "    url_atracacao = f'http://web.antaq.gov.br/Sistemas/ArquivosAnuario/Arquivos/{ano}Atracacao.zip'\n",
    "    zipurl = url_atracacao\n",
    "    resp = requests.get(zipurl)\n",
    "    zname = f\"{directory_external}{ano}Atracacao.zip\"\n",
    "    zfile = open(zname, 'wb')\n",
    "    zfile.write(resp.content)\n",
    "    zfile.close()\n",
    "    \n",
    "    \n",
    "    url_carga = f'http://web.antaq.gov.br/Sistemas/ArquivosAnuario/Arquivos/{ano}Carga.zip'\n",
    "    zipurl = url_carga\n",
    "    resp = requests.get(zipurl)\n",
    "    zname = f\"{directory_external}{ano}Carga.zip\"\n",
    "    zfile = open(zname, 'wb')\n",
    "    zfile.write(resp.content)\n",
    "    zfile.close()"
   ]
  },
  {
   "cell_type": "markdown",
   "metadata": {},
   "source": [
    "# Unzip"
   ]
  },
  {
   "cell_type": "code",
   "execution_count": 5,
   "metadata": {},
   "outputs": [],
   "source": [
    "directory_raw = 'data/raw/'\n",
    "\n",
    "if not os.path.exists(directory_raw):\n",
    "    os.makedirs(directory_raw)"
   ]
  },
  {
   "cell_type": "code",
   "execution_count": 6,
   "metadata": {},
   "outputs": [],
   "source": [
    "for ano in anos_interesse:\n",
    "    with zipfile.ZipFile(f\"{directory_external}{ano}Atracacao.zip\", 'r') as zip_ref:\n",
    "        zip_ref.extractall(f\"{directory_raw}\")\n",
    "        \n",
    "    with zipfile.ZipFile(f\"{directory_external}{ano}Carga.zip\", 'r') as zip_ref:\n",
    "        zip_ref.extractall(f\"{directory_raw}\")"
   ]
  },
  {
   "cell_type": "code",
   "execution_count": null,
   "metadata": {},
   "outputs": [],
   "source": []
  }
 ],
 "metadata": {
  "kernelspec": {
   "display_name": "Python 3",
   "language": "python",
   "name": "python3"
  },
  "language_info": {
   "codemirror_mode": {
    "name": "ipython",
    "version": 3
   },
   "file_extension": ".py",
   "mimetype": "text/x-python",
   "name": "python",
   "nbconvert_exporter": "python",
   "pygments_lexer": "ipython3",
   "version": "3.8.5"
  }
 },
 "nbformat": 4,
 "nbformat_minor": 4
}
