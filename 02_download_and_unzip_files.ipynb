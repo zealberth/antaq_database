{
 "cells": [
  {
   "cell_type": "markdown",
   "metadata": {},
   "source": [
    "# Download"
   ]
  },
  {
   "cell_type": "code",
   "execution_count": 3,
   "metadata": {},
   "outputs": [],
   "source": [
    "import requests"
   ]
  },
  {
   "cell_type": "code",
   "execution_count": 4,
   "metadata": {},
   "outputs": [],
   "source": [
    "anos_interesse = ['2020', '2019', '2018']"
   ]
  },
  {
   "cell_type": "code",
   "execution_count": 5,
   "metadata": {},
   "outputs": [],
   "source": [
    "for ano in anos_interesse:\n",
    "    url_atracacao = f'http://web.antaq.gov.br/Sistemas/ArquivosAnuario/Arquivos/{ano}Atracacao.zip'\n",
    "    zipurl = url_atracacao\n",
    "    resp = requests.get(zipurl)\n",
    "    zname = f\"data/external/{ano}Atracacao.zip\"\n",
    "    zfile = open(zname, 'wb')\n",
    "    zfile.write(resp.content)\n",
    "    zfile.close()\n",
    "    \n",
    "    \n",
    "    url_carga = f'http://web.antaq.gov.br/Sistemas/ArquivosAnuario/Arquivos/{ano}Carga.zip'\n",
    "    zipurl = url_carga\n",
    "    resp = requests.get(zipurl)\n",
    "    zname = f\"data/external/{ano}Carga.zip\"\n",
    "    zfile = open(zname, 'wb')\n",
    "    zfile.write(resp.content)\n",
    "    zfile.close()"
   ]
  },
  {
   "cell_type": "markdown",
   "metadata": {},
   "source": [
    "# Unzip"
   ]
  },
  {
   "cell_type": "code",
   "execution_count": 6,
   "metadata": {},
   "outputs": [],
   "source": [
    "import zipfile"
   ]
  },
  {
   "cell_type": "code",
   "execution_count": 9,
   "metadata": {},
   "outputs": [],
   "source": [
    "for ano in anos_interesse:\n",
    "    with zipfile.ZipFile(f\"data/external/{ano}Atracacao.zip\", 'r') as zip_ref:\n",
    "        zip_ref.extractall(f\"data/raw/{ano}Atracacao.zip\")\n",
    "        \n",
    "    with zipfile.ZipFile(f\"data/external/{ano}Carga.zip\", 'r') as zip_ref:\n",
    "        zip_ref.extractall(f\"data/raw/{ano}Carga.zip\")"
   ]
  },
  {
   "cell_type": "code",
   "execution_count": null,
   "metadata": {},
   "outputs": [],
   "source": []
  }
 ],
 "metadata": {
  "kernelspec": {
   "display_name": "Python 3",
   "language": "python",
   "name": "python3"
  },
  "language_info": {
   "codemirror_mode": {
    "name": "ipython",
    "version": 3
   },
   "file_extension": ".py",
   "mimetype": "text/x-python",
   "name": "python",
   "nbconvert_exporter": "python",
   "pygments_lexer": "ipython3",
   "version": "3.8.5"
  }
 },
 "nbformat": 4,
 "nbformat_minor": 4
}
